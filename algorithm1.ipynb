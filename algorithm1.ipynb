{
  "nbformat": 4,
  "nbformat_minor": 0,
  "metadata": {
    "colab": {
      "name": "algorithm1",
      "provenance": []
    },
    "kernelspec": {
      "name": "python3",
      "display_name": "Python 3"
    },
    "language_info": {
      "name": "python"
    }
  },
  "cells": [
    {
      "cell_type": "markdown",
      "metadata": {
        "id": "FRkUitYOysPN"
      },
      "source": [
        "Write a Python program for binary search."
      ]
    },
    {
      "cell_type": "code",
      "metadata": {
        "id": "uRvdq2lHysfj",
        "colab": {
          "base_uri": "https://localhost:8080/"
        },
        "outputId": "c68c7a46-543c-4e65-920f-f2a08b4bc648"
      },
      "source": [
        "def binary_search(item_list,item):\n",
        "\tfirst = 0\n",
        "\tlast = len(item_list)-1\n",
        "\tfound = False\n",
        "\twhile( first<=last and not found):\n",
        "\t\tmid = (first + last)//2\n",
        "\t\tif item_list[mid] == item :\n",
        "\t\t\tfound = True\n",
        "\t\telse:\n",
        "\t\t\tif item < item_list[mid]:\n",
        "\t\t\t\tlast = mid - 1\n",
        "\t\t\telse:\n",
        "\t\t\t\tfirst = mid + 1\t\n",
        "\treturn found\t\n",
        "print(binary_search([1,2,3,5,8], 6))\n",
        "print(binary_search([1,2,3,5,8], 5))"
      ],
      "execution_count": null,
      "outputs": [
        {
          "output_type": "stream",
          "text": [
            "False\n",
            "True\n"
          ],
          "name": "stdout"
        }
      ]
    },
    {
      "cell_type": "markdown",
      "metadata": {
        "id": "nWGiJUDRgkYg"
      },
      "source": [
        "   2. Write a Python program to calculate the value of 'a' to the power 'b'."
      ]
    },
    {
      "cell_type": "code",
      "metadata": {
        "colab": {
          "base_uri": "https://localhost:8080/"
        },
        "id": "zbT_74JXgqnQ",
        "outputId": "d66dad15-1f21-4c4e-9332-3b65b0158e9d"
      },
      "source": [
        "def power(a,b):\n",
        "\tif b==0:\n",
        "\t\treturn 1\n",
        "\telif a==0:\n",
        "\t\treturn 0\n",
        "\telif b==1:\n",
        "\t\treturn a\n",
        "\telse:\n",
        "\t\treturn a*power(a,b-1)\n",
        "print(power(3,4))"
      ],
      "execution_count": null,
      "outputs": [
        {
          "output_type": "stream",
          "text": [
            "81\n"
          ],
          "name": "stdout"
        }
      ]
    },
    {
      "cell_type": "markdown",
      "metadata": {
        "id": "_ih82I8mh8K7"
      },
      "source": [
        "  3. Write a Python program to sort a list of elements using the bubble sort algorithm"
      ]
    },
    {
      "cell_type": "code",
      "metadata": {
        "colab": {
          "base_uri": "https://localhost:8080/"
        },
        "id": "_wpLdh6wiCYP",
        "outputId": "ea5c6251-4600-4b3b-d60c-f82994574d48"
      },
      "source": [
        "def bubbleSort(nlist):\n",
        "    for passnum in range(len(nlist)-1,0,-1):\n",
        "        for i in range(passnum):\n",
        "            if nlist[i] nlist[i+1]:\n",
        "                temp = nlist[i]\n",
        "                nlist[i] = nlist[i+1]\n",
        "                nlist[i+1] = temp\n",
        "nlist = [29,13,22,37,52,49,46,71,56]\n",
        "bubbleSort(nlist)\n",
        "print(nlist)"
      ],
      "execution_count": null,
      "outputs": [
        {
          "output_type": "stream",
          "text": [
            "[13, 22, 29, 37, 46, 49, 52, 56, 71]\n"
          ],
          "name": "stdout"
        }
      ]
    },
    {
      "cell_type": "markdown",
      "metadata": {
        "id": "HZAHD39ji_0Z"
      },
      "source": [
        " Write a Python program to sort a list of elements using the merge sort algorithm"
      ]
    },
    {
      "cell_type": "code",
      "metadata": {
        "id": "hpHWjHfsrVSa"
      },
      "source": [
        "def mergeSort(nlist):\n",
        "    print(\"Splitting \",nlist)\n",
        "    if len(nlist)>1:\n",
        "        mid = len(nlist)//2\n",
        "        lefthalf = nlist[:mid]\n",
        "        righthalf = nlist[mid:]\n",
        "\n",
        "        mergeSort(lefthalf)\n",
        "        mergeSort(righthalf)\n",
        "        i=j=k=0       \n",
        "        while i < len(lefthalf) and j < len(righthalf):\n",
        "            if lefthalf[i] < righthalf[j]:\n",
        "                nlist[k]=lefthalf[i]\n",
        "                i=i+1\n",
        "            else:\n",
        "                nlist[k]=righthalf[j]\n",
        "                j=j+1\n",
        "            k=k+1\n",
        "\n",
        "        while i < len(lefthalf):\n",
        "            nlist[k]=lefthalf[i]\n",
        "            i=i+1\n",
        "            k=k+1\n",
        "\n",
        "        while j < len(righthalf):\n",
        "            nlist[k]=righthalf[j]\n",
        "            j=j+1\n",
        "            k=k+1\n",
        "    print(\"Merging \",nlist)\n",
        "\n",
        "nlist = [14,46,43,27,57,41,45,21,70]\n",
        "mergeSort(nlist)\n",
        "print(nlist)\n"
      ],
      "execution_count": null,
      "outputs": []
    },
    {
      "cell_type": "code",
      "metadata": {
        "colab": {
          "base_uri": "https://localhost:8080/"
        },
        "id": "I83cWwtrqeQH",
        "outputId": "c9fb8311-4cfc-42a8-be1e-3207bd191698"
      },
      "source": [
        "def mergeSort(nlist):\n",
        "    print(\"Splitting \",nlist)\n",
        "    if len(nlist)>1:\n",
        "        mid = len(nlist)//2\n",
        "        lefthalf = nlist[:mid]\n",
        "        righthalf = nlist[mid:]\n",
        "\n",
        "        mergeSort(lefthalf)\n",
        "        mergeSort(righthalf)\n",
        "        i=j=k=0       \n",
        "        while i < len(lefthalf) and j < len(righthalf):\n",
        "            if lefthalf[i] < righthalf[j]:\n",
        "                nlist[k]=lefthalf[i]\n",
        "                i=i+1\n",
        "            else:\n",
        "                nlist[k]=righthalf[j]\n",
        "                j=j+1\n",
        "            k=k+1\n",
        "\n",
        "        while i < len(lefthalf):\n",
        "            nlist[k]=lefthalf[i]\n",
        "            i=i+1\n",
        "            k=k+1\n",
        "\n",
        "        while j < len(righthalf):\n",
        "            nlist[k]=righthalf[j]\n",
        "            j=j+1\n",
        "            k=k+1\n",
        "    print(\"Merging \",nlist)\n",
        "\n",
        "nlist = [14,46,43,27,57,41,45,21,70]\n",
        "mergeSort(nlist)\n",
        "print(nlist)\n"
      ],
      "execution_count": 1,
      "outputs": [
        {
          "output_type": "stream",
          "text": [
            "Splitting  [14, 46, 43, 27, 57, 41, 45, 21, 70]\n",
            "Splitting  [14, 46, 43, 27]\n",
            "Splitting  [14, 46]\n",
            "Splitting  [14]\n",
            "Merging  [14]\n",
            "Splitting  [46]\n",
            "Merging  [46]\n",
            "Merging  [14, 46]\n",
            "Splitting  [43, 27]\n",
            "Splitting  [43]\n",
            "Merging  [43]\n",
            "Splitting  [27]\n",
            "Merging  [27]\n",
            "Merging  [27, 43]\n",
            "Merging  [14, 27, 43, 46]\n",
            "Splitting  [57, 41, 45, 21, 70]\n",
            "Splitting  [57, 41]\n",
            "Splitting  [57]\n",
            "Merging  [57]\n",
            "Splitting  [41]\n",
            "Merging  [41]\n",
            "Merging  [41, 57]\n",
            "Splitting  [45, 21, 70]\n",
            "Splitting  [45]\n",
            "Merging  [45]\n",
            "Splitting  [21, 70]\n",
            "Splitting  [21]\n",
            "Merging  [21]\n",
            "Splitting  [70]\n",
            "Merging  [70]\n",
            "Merging  [21, 70]\n",
            "Merging  [21, 45, 70]\n",
            "Merging  [21, 41, 45, 57, 70]\n",
            "Merging  [14, 21, 27, 41, 43, 45, 46, 57, 70]\n",
            "[14, 21, 27, 41, 43, 45, 46, 57, 70]\n"
          ],
          "name": "stdout"
        }
      ]
    }
  ]
}