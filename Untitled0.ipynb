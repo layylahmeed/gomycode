{
  "nbformat": 4,
  "nbformat_minor": 0,
  "metadata": {
    "colab": {
      "name": "Untitled0.ipynb",
      "provenance": []
    },
    "kernelspec": {
      "name": "python3",
      "display_name": "Python 3"
    },
    "language_info": {
      "name": "python"
    }
  },
  "cells": [
    {
      "cell_type": "code",
      "metadata": {
        "colab": {
          "base_uri": "https://localhost:8080/"
        },
        "id": "1Rv_xmLCKA9L",
        "outputId": "84d25e6e-ff98-4625-f55b-c5bf01be479a"
      },
      "source": [
        "def maximum(a, b, c):\n",
        "    list = [a, b, c]\n",
        "    return max(list)\n",
        "   # 20, 35, 19\n",
        "a = 20   \n",
        "b = 35\n",
        "c = 19\n",
        "print(maximum(a, b, c))"
      ],
      "execution_count": 6,
      "outputs": [
        {
          "output_type": "stream",
          "text": [
            "35\n"
          ],
          "name": "stdout"
        }
      ]
    },
    {
      "cell_type": "code",
      "metadata": {
        "id": "ngGXiiOKQ3QB"
      },
      "source": [
        "list1 = [1, 3, 5]\n",
        "total = sum(list1)\n",
        "print(\": \", total)\n",
        "\n",
        "\n",
        "list2 = [1, 2, 3]\n",
        "list2 = [item * 2 for item in list2]\n",
        "print(list2)\n",
        "\n",
        "\n",
        "\n",
        "list1 = [10, 21, 4, 45, 66, 93, 1]\n",
        "  \n",
        "even_count, odd_count = 0, 0\n",
        "for num in list1:\n",
        "    if num % 2 == 0:\n",
        "        even_count += 1\n",
        "        else:\n",
        "        odd_count += 1         \n",
        "print(\"Even numbers in the list: \", even_count)\n",
        "print(\"Odd numbers in the list: \", odd_count)"
      ],
      "execution_count": null,
      "outputs": []
    },
    {
      "cell_type": "code",
      "metadata": {
        "id": "rjRoHWczWEW5"
      },
      "source": [
        "n=input(\"green, red, yellow, black, white \") \n",
        "l=n.split('-') \n",
        "l.sort() \n",
        "print('-'(l)) "
      ],
      "execution_count": null,
      "outputs": []
    },
    {
      "cell_type": "code",
      "metadata": {
        "id": "bofUagh7V_9-"
      },
      "source": [
        "\n",
        "num1 = 40 \n",
        "num2 = 10\n",
        "sum = num1 + num2\n",
        "print('The sum of {0} and {1} is {2}'.format(num1, num2, sum))"
      ],
      "execution_count": null,
      "outputs": []
    }
  ]
}