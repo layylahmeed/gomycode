{
  "nbformat": 4,
  "nbformat_minor": 0,
  "metadata": {
    "colab": {
      "name": "Untitled1.ipynb",
      "provenance": [],
      "collapsed_sections": []
    },
    "kernelspec": {
      "name": "python3",
      "display_name": "Python 3"
    },
    "language_info": {
      "name": "python"
    }
  },
  "cells": [
    {
      "cell_type": "markdown",
      "metadata": {
        "id": "R6XFbo48WL2g"
      },
      "source": [
        "Write a python class named Point3D defined by x, y, and z. Define a method that returns (x, y ,z). This tells Python to represent this object in the following format: (x, y, z). Then create a variable named my_point containing a new instance of Point3D with x=1, y=2, and z=3 and print it."
      ]
    },
    {
      "cell_type": "code",
      "metadata": {
        "colab": {
          "base_uri": "https://localhost:8080/"
        },
        "id": "0J43k9tvX3BT",
        "outputId": "2dffe58e-3882-44a5-fcbb-7ca3fbbd3022"
      },
      "source": [
        "class Point3D(object):\n",
        "    def __init__(self, x, y, z):\n",
        "        self.x = x\n",
        "        self.y = y\n",
        "        self.z = z\n",
        "    def __repr__(self):\n",
        "        return \"(%d, %d, %d)\" % (self.x, self.y, self.z)\n",
        "        \n",
        "my_point = Point3D(1,2,3)\n",
        "\n",
        "print(my_point)\n"
      ],
      "execution_count": null,
      "outputs": [
        {
          "output_type": "stream",
          "text": [
            "(1, 2, 3)\n"
          ],
          "name": "stdout"
        }
      ]
    },
    {
      "cell_type": "markdown",
      "metadata": {
        "id": "mZszI12xYmPl"
      },
      "source": [
        "Write a Python class named Rectangle constructed by a length and width. Define two methods area and perimeter which will compute the area and the perimeter of the rectangle. Then create a variable named my_rectangle containing a new instance of Rectangle with width=3 and length = 4 and compute both of area and perimeter ( the area is expected to be 3*4=12 and perimeter 2*(3+4)=14)"
      ]
    },
    {
      "cell_type": "code",
      "metadata": {
        "colab": {
          "base_uri": "https://localhost:8080/"
        },
        "id": "iqGKiOBMZrwp",
        "outputId": "82e680ed-fa50-47c3-9282-d4275ef68e07"
      },
      "source": [
        "class Rectangle():\n",
        "    def __init__(self, l, w):\n",
        "        self.length = l\n",
        "        self.width  = w\n",
        "\n",
        "    def rectangle_area(self):\n",
        "        return self.length*self.width\n",
        "\n",
        "newRectangle = Rectangle(12, 10)\n",
        "print(newRectangle.rectangle_area())"
      ],
      "execution_count": null,
      "outputs": [
        {
          "output_type": "stream",
          "text": [
            "120\n"
          ],
          "name": "stdout"
        }
      ]
    },
    {
      "cell_type": "markdown",
      "metadata": {
        "id": "tYDXVJl3Z-ie"
      },
      "source": [
        "Write a Python  class named Circle constructed by its center O and radius r. Define two methods area and perimeter which will compute the area and the perimeter of the circle, and isInside() method of the class which allows to test whether a point A(x, y) belongs to the circle C(O, r) or not."
      ]
    },
    {
      "cell_type": "code",
      "metadata": {
        "id": "t_bWVFtdaxzA"
      },
      "source": [
        "class Circle():\n",
        "  def __init__(self,O,R):\n",
        "    self.center = O \n",
        "    self.radius = R \n",
        "  def Circle_area(self):\n",
        "    return self.center*self.radius \n",
        "\n",
        "  def Circle_perimeter(self):\n",
        "    return self.center*self.radius\n",
        "  def R():\n",
        "    R=5 \n",
        "  def point_a():\n"
      ],
      "execution_count": null,
      "outputs": []
    },
    {
      "cell_type": "code",
      "metadata": {
        "colab": {
          "base_uri": "https://localhost:8080/"
        },
        "id": "ioWPZH4NoDlg",
        "outputId": "11e53ead-b66c-46a1-87fc-99f2002550a2"
      },
      "source": [
        "class rectangle():\n",
        "  def __init__(self, l, w):\n",
        "        self.length = l\n",
        "        self.width  = w\n",
        " \n",
        "  def rectangle_area(self):\n",
        "    return self.length*self.width\n",
        "\n",
        "rectangle= rectangle(2,4)\n",
        "print(rectangle.rectangle_area())\n"
      ],
      "execution_count": null,
      "outputs": [
        {
          "output_type": "stream",
          "text": [
            "8\n"
          ],
          "name": "stdout"
        }
      ]
    },
    {
      "cell_type": "markdown",
      "metadata": {
        "id": "Av_bI6fCrRrc"
      },
      "source": [
        "Write a Python class which has two methods get_String and print_String. get_String accept a string from the user and print_String print the string in upper case."
      ]
    },
    {
      "cell_type": "code",
      "metadata": {
        "id": "vjIl90FVrTdK"
      },
      "source": [
        "class python():\n",
        "  def __init__(self):\n",
        "    str1=\"\"\n",
        "  def get_String(self):\n",
        "    self.str1 = input()\n",
        "  def print_String(self):\n",
        "    print(self.str1.upper())\n",
        " "
      ],
      "execution_count": null,
      "outputs": []
    },
    {
      "cell_type": "code",
      "metadata": {
        "id": "j595irjat-bS"
      },
      "source": [
        "python= python()"
      ],
      "execution_count": null,
      "outputs": []
    },
    {
      "cell_type": "code",
      "metadata": {
        "colab": {
          "base_uri": "https://localhost:8080/"
        },
        "id": "l8_EPY3VvGo5",
        "outputId": "62bbf24b-ff9f-4989-9290-c8efe8534930"
      },
      "source": [
        "python.get_String()"
      ],
      "execution_count": null,
      "outputs": [
        {
          "output_type": "stream",
          "text": [
            "python\n"
          ],
          "name": "stdout"
        }
      ]
    },
    {
      "cell_type": "code",
      "metadata": {
        "colab": {
          "base_uri": "https://localhost:8080/",
          "height": 158
        },
        "id": "3OAegvM5vVOU",
        "outputId": "44ca9fcb-235b-406b-b9f2-7eb87a6711e1"
      },
      "source": [
        "python.print_String()"
      ],
      "execution_count": null,
      "outputs": [
        {
          "output_type": "error",
          "ename": "AttributeError",
          "evalue": "ignored",
          "traceback": [
            "\u001b[0;31m---------------------------------------------------------------------------\u001b[0m",
            "\u001b[0;31mAttributeError\u001b[0m                            Traceback (most recent call last)",
            "\u001b[0;32m<ipython-input-27-02244d535f78>\u001b[0m in \u001b[0;36m<module>\u001b[0;34m()\u001b[0m\n\u001b[0;32m----> 1\u001b[0;31m \u001b[0mpython\u001b[0m\u001b[0;34m.\u001b[0m\u001b[0mprint_string\u001b[0m\u001b[0;34m(\u001b[0m\u001b[0;34m)\u001b[0m\u001b[0;34m\u001b[0m\u001b[0;34m\u001b[0m\u001b[0m\n\u001b[0m",
            "\u001b[0;31mAttributeError\u001b[0m: 'python' object has no attribute 'print_string'"
          ]
        }
      ]
    },
    {
      "cell_type": "code",
      "metadata": {
        "id": "W6Q7n4ATv2fk"
      },
      "source": [
        ""
      ],
      "execution_count": null,
      "outputs": []
    }
  ]
}