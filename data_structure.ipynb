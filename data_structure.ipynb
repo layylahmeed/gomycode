{
  "nbformat": 4,
  "nbformat_minor": 0,
  "metadata": {
    "colab": {
      "name": "data structure",
      "provenance": []
    },
    "kernelspec": {
      "name": "python3",
      "display_name": "Python 3"
    },
    "language_info": {
      "name": "python"
    }
  },
  "cells": [
    {
      "cell_type": "code",
      "metadata": {
        "colab": {
          "base_uri": "https://localhost:8080/"
        },
        "id": "pd5iwi6CLLRy",
        "outputId": "ea69b955-bb23-4767-f389-09faf4624b0d"
      },
      "source": [
        "def multiply_list(items):\n",
        "    tot = 1\n",
        "    for x in items:\n",
        "        tot *= x\n",
        "    return tot\n",
        "print(multiply_list([2,3,6]))"
      ],
      "execution_count": null,
      "outputs": [
        {
          "output_type": "stream",
          "text": [
            "36\n"
          ],
          "name": "stdout"
        }
      ]
    },
    {
      "cell_type": "code",
      "metadata": {
        "colab": {
          "base_uri": "https://localhost:8080/"
        },
        "id": "0dhCHv9hLy-T",
        "outputId": "308f0516-8400-4080-ab7e-1f737009bb23"
      },
      "source": [
        "l= [(2, 5), (1, 2), (4, 4), (2, 3), (2, 1)]\n",
        "l.sort()\n",
        "import operator\n",
        "l.sort(key=operator.itemgetter(1))\n",
        "l"
      ],
      "execution_count": null,
      "outputs": [
        {
          "output_type": "execute_result",
          "data": {
            "text/plain": [
              "[(2, 1), (1, 2), (2, 3), (4, 4), (2, 5)]"
            ]
          },
          "metadata": {
            "tags": []
          },
          "execution_count": 3
        }
      ]
    },
    {
      "cell_type": "code",
      "metadata": {
        "colab": {
          "base_uri": "https://localhost:8080/"
        },
        "id": "Q-JNL29AlpVF",
        "outputId": "1ffd8d73-577e-4f45-f2bb-98048d9233e2"
      },
      "source": [
        "price = [('item1', '12.20'), ('item2', '15.10'), ('item3', '24.5')]\n",
        "print( sorted(price, key=lambda x: float(x[1]), reverse=True))"
      ],
      "execution_count": null,
      "outputs": [
        {
          "output_type": "stream",
          "text": [
            "[('item3', '24.5'), ('item2', '15.10'), ('item1', '12.20')]\n"
          ],
          "name": "stdout"
        }
      ]
    },
    {
      "cell_type": "code",
      "metadata": {
        "colab": {
          "base_uri": "https://localhost:8080/"
        },
        "id": "cEQUFhEvRZ_W",
        "outputId": "cf7817d5-f0a4-436c-8e39-e2afcee7f33b"
      },
      "source": [
        "d1 = {'a': 100, 'b': 200, 'c':300}\n",
        "d2 = {'a': 300, 'b': 200, 'd':400}\n",
        "for key in d1:\n",
        "    if key in d2:\n",
        "        d1[key] = d1[key] + d2[key]\n",
        "\n",
        "d3 = {**d2, **d1}\n",
        "print(d3)\n",
        "\n"
      ],
      "execution_count": null,
      "outputs": [
        {
          "output_type": "stream",
          "text": [
            "{'a': 400, 'b': 400, 'd': 400, 'c': 300}\n"
          ],
          "name": "stdout"
        }
      ]
    }
  ]
}