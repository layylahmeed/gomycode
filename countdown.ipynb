{
  "nbformat": 4,
  "nbformat_minor": 0,
  "metadata": {
    "colab": {
      "name": "countdown",
      "provenance": []
    },
    "kernelspec": {
      "name": "python3",
      "display_name": "Python 3"
    },
    "language_info": {
      "name": "python"
    }
  },
  "cells": [
    {
      "cell_type": "code",
      "metadata": {
        "colab": {
          "base_uri": "https://localhost:8080/"
        },
        "id": "eJ6lm5BMA4Hb",
        "outputId": "c6e495aa-d799-48b4-a6c2-01917a576a33"
      },
      "source": [
        "\n",
        "import time\n",
        "def countdown(t):\n",
        "\t\n",
        "\twhile t:\n",
        "\t\tmins, secs = divmod(t, 60)\n",
        "\t\ttimer = '{:02d}:{:02d}'.format(mins, secs)\n",
        "\t\tprint(timer, end=\"\\r\")\n",
        "\t\ttime.sleep(1)\n",
        "\t\tt -= 1\n",
        "\t\n",
        "\tprint('Fire in the hole!!')\n",
        "t = input(\"90 \")\n",
        "\n",
        "countdown(int(t))\n"
      ],
      "execution_count": 2,
      "outputs": [
        {
          "output_type": "stream",
          "name": "stdout",
          "text": [
            "90 60\n",
            "Fire in the hole!!\n"
          ]
        }
      ]
    }
  ]
}