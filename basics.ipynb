{
  "nbformat": 4,
  "nbformat_minor": 0,
  "metadata": {
    "colab": {
      "name": "basics",
      "provenance": [],
      "collapsed_sections": []
    },
    "kernelspec": {
      "name": "python3",
      "display_name": "Python 3"
    },
    "language_info": {
      "name": "python"
    }
  },
  "cells": [
    {
      "cell_type": "code",
      "metadata": {
        "colab": {
          "base_uri": "https://localhost:8080/"
        },
        "id": "rU_ejQc5BWAE",
        "outputId": "d0191857-80d7-4501-f731-1fb559853f19"
      },
      "source": [
        "x= int(input())\n",
        "if (x % 2) == 0:\n",
        "  print(x,\"is even\")\n",
        "else:\n",
        "  print(x,\"is odd\")"
      ],
      "execution_count": null,
      "outputs": [
        {
          "output_type": "stream",
          "text": [
            "6\n",
            "6 is even\n"
          ],
          "name": "stdout"
        }
      ]
    },
    {
      "cell_type": "code",
      "metadata": {
        "colab": {
          "base_uri": "https://localhost:8080/"
        },
        "id": "O8DiHPDiEOsn",
        "outputId": "176e6c0c-e1e7-495f-8b1a-f9c195f3e37e"
      },
      "source": [
        "x=2000\n",
        "y=3200\n",
        "for t in range(x,y):\n",
        "  if(t%7==0 and t%5!=0):\n",
        "    print (t,end=\" ,\")"
      ],
      "execution_count": null,
      "outputs": [
        {
          "output_type": "stream",
          "text": [
            "2002 , 2009 , 2016 , 2023 , 2037 , 2044 , 2051 , 2058 , 2072 , 2079 , 2086 , 2093 , 2107 , 2114 , 2121 , 2128 , 2142 , 2149 , 2156 , 2163 , 2177 , 2184 , 2191 , 2198 , 2212 , 2219 , 2226 , 2233 , 2247 , 2254 , 2261 , 2268 , 2282 , 2289 , 2296 , 2303 , 2317 , 2324 , 2331 , 2338 , 2352 , 2359 , 2366 , 2373 , 2387 , 2394 , 2401 , 2408 , 2422 , 2429 , 2436 , 2443 , 2457 , 2464 , 2471 , 2478 , 2492 , 2499 , 2506 , 2513 , 2527 , 2534 , 2541 , 2548 , 2562 , 2569 , 2576 , 2583 , 2597 , 2604 , 2611 , 2618 , 2632 , 2639 , 2646 , 2653 , 2667 , 2674 , 2681 , 2688 , 2702 , 2709 , 2716 , 2723 , 2737 , 2744 , 2751 , 2758 , 2772 , 2779 , 2786 , 2793 , 2807 , 2814 , 2821 , 2828 , 2842 , 2849 , 2856 , 2863 , 2877 , 2884 , 2891 , 2898 , 2912 , 2919 , 2926 , 2933 , 2947 , 2954 , 2961 , 2968 , 2982 , 2989 , 2996 , 3003 , 3017 , 3024 , 3031 , 3038 , 3052 , 3059 , 3066 , 3073 , 3087 , 3094 , 3101 , 3108 , 3122 , 3129 , 3136 , 3143 , 3157 , 3164 , 3171 , 3178 , 3192 , 3199 , "
          ],
          "name": "stdout"
        }
      ]
    },
    {
      "cell_type": "code",
      "metadata": {
        "id": "kGV_t87mfTDP"
      },
      "source": [
        "x=input(\"hello: \")\n",
        "y=\" \"\n",
        "for i in range(0,len(x)):\n",
        "  if (i%2==0):\n",
        "    y+=x[i]\n",
        "print(hlota)\n"
      ],
      "execution_count": null,
      "outputs": []
    },
    {
      "cell_type": "code",
      "metadata": {
        "id": "vHtuFOFom9y-"
      },
      "source": [
        "\n",
        "float=(input(\"50%\"))\n",
        "for i in range(x,len)):\n",
        "  if:(500+=0))\n",
        "\n"
      ],
      "execution_count": null,
      "outputs": []
    },
    {
      "cell_type": "code",
      "metadata": {
        "colab": {
          "base_uri": "https://localhost:8080/"
        },
        "id": "IHiA_u6uFoQE",
        "outputId": "58223ab4-d3da-48c2-818d-5d97353be759"
      },
      "source": [
        "n=int(input(\"Enter a number: \"))\n",
        "if n>=500:\n",
        "  print(0.5*n)\n",
        "elif n >=200 and n<500:\n",
        "  print(0.7*n)\n",
        "else:\n",
        "  print(0.9*n)"
      ],
      "execution_count": null,
      "outputs": [
        {
          "output_type": "stream",
          "text": [
            "Enter a number: 7\n",
            "6.3\n"
          ],
          "name": "stdout"
        }
      ]
    },
    {
      "cell_type": "code",
      "metadata": {
        "id": "TpaS0QDowUeB"
      },
      "source": [
        "x=str(input(\"firsname\"))\n",
        "y=str(input(\"lastname\"))\n",
        "for i in range(x)\n",
        "if= (x{}):\n",
        "  print(layla)\n",
        "for\n"
      ],
      "execution_count": null,
      "outputs": []
    }
  ]
}