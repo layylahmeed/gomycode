{
  "nbformat": 4,
  "nbformat_minor": 0,
  "metadata": {
    "colab": {
      "name": "creat array 2",
      "provenance": []
    },
    "kernelspec": {
      "name": "python3",
      "display_name": "Python 3"
    },
    "language_info": {
      "name": "python"
    }
  },
  "cells": [
    {
      "cell_type": "markdown",
      "metadata": {
        "id": "1zqFCsczNI_v"
      },
      "source": [
        "Write a Python program to convert an array to an ordinary list with the same items."
      ]
    },
    {
      "cell_type": "code",
      "metadata": {
        "colab": {
          "base_uri": "https://localhost:8080/"
        },
        "id": "5JbietTCNKYJ",
        "outputId": "2449def9-d3a7-440d-ed8e-2bbbd1802539"
      },
      "source": [
        "from array import *\n",
        "array_num = array('i', [1, 3, 5, 3, 7, 1, 9, 3])\n",
        "print(\"Original array: \"+str(array_num))\n",
        "num_list = array_num.tolist()\n",
        "print(\"Convert the said array to an ordinary list with the same items:\")\n",
        "print(num_list)"
      ],
      "execution_count": null,
      "outputs": [
        {
          "output_type": "stream",
          "text": [
            "Original array: array('i', [1, 3, 5, 3, 7, 1, 9, 3])\n",
            "Convert the said array to an ordinary list with the same items:\n",
            "[1, 3, 5, 3, 7, 1, 9, 3]\n"
          ],
          "name": "stdout"
        }
      ]
    },
    {
      "cell_type": "markdown",
      "metadata": {
        "id": "RWlm_yWVNh2Y"
      },
      "source": [
        "Write a NumPy program to compute the sum of the diagonal elements of a given array."
      ]
    },
    {
      "cell_type": "code",
      "metadata": {
        "colab": {
          "base_uri": "https://localhost:8080/"
        },
        "id": "hjMqtuaCOJEJ",
        "outputId": "ac6217bb-ecf1-4821-88a8-88ca92c04448"
      },
      "source": [
        "import numpy as np\n",
        "m = np.arange(6).reshape(2,3)\n",
        "print(\"Original matrix:\")\n",
        "print(m)\n",
        "result =  np.trace(m)\n",
        "print(\"Condition number of the said matrix:\")\n",
        "print(result)"
      ],
      "execution_count": null,
      "outputs": [
        {
          "output_type": "stream",
          "text": [
            "Original matrix:\n",
            "[[0 1 2]\n",
            " [3 4 5]]\n",
            "Condition number of the said matrix:\n",
            "4\n"
          ],
          "name": "stdout"
        }
      ]
    },
    {
      "cell_type": "markdown",
      "metadata": {
        "id": "vZrzw-ZmPB33"
      },
      "source": [
        "Write a NumPy program to subtract the mean of each row of a given matrix."
      ]
    },
    {
      "cell_type": "code",
      "metadata": {
        "colab": {
          "base_uri": "https://localhost:8080/"
        },
        "id": "LnxjAh8LPaMj",
        "outputId": "1e6aee22-2be9-4911-dfd0-f537cc6a85f6"
      },
      "source": [
        "import numpy as np\n",
        "print(\"Original matrix:\\n\")\n",
        "X = np.random.rand(5, 10)\n",
        "print(X)\n",
        "print(\"\\nSubtract the mean of each row of the said matrix:\\n\")\n",
        "Y = X - X.mean(axis=1, keepdims=True)\n",
        "print(Y)"
      ],
      "execution_count": null,
      "outputs": [
        {
          "output_type": "stream",
          "text": [
            "Original matrix:\n",
            "\n",
            "[[0.47026506 0.5175881  0.91790924 0.82218905 0.5117456  0.79123537\n",
            "  0.43302033 0.15903802 0.21864217 0.55140483]\n",
            " [0.97050921 0.54766958 0.92462562 0.8129171  0.86165006 0.19579883\n",
            "  0.15194355 0.12531476 0.975024   0.33261427]\n",
            " [0.35957625 0.16338472 0.90931827 0.71197017 0.04550847 0.60433558\n",
            "  0.71179907 0.27811954 0.88287391 0.63777061]\n",
            " [0.56467182 0.71225761 0.96776552 0.18717132 0.09251254 0.52221712\n",
            "  0.47896321 0.48964085 0.97042903 0.03346408]\n",
            " [0.00137722 0.42548344 0.57183751 0.26260949 0.09995334 0.85192293\n",
            "  0.86010583 0.66688264 0.03442851 0.59360719]]\n",
            "\n",
            "Subtract the mean of each row of the said matrix:\n",
            "\n",
            "[[-0.06903872 -0.02171568  0.37860547  0.28288527 -0.02755818  0.2519316\n",
            "  -0.10628345 -0.38026576 -0.3206616   0.01210105]\n",
            " [ 0.38070251 -0.04213712  0.33481892  0.2231104   0.27184336 -0.39400787\n",
            "  -0.43786315 -0.46449194  0.38521731 -0.25719243]\n",
            " [-0.17088941 -0.36708094  0.37885261  0.18150451 -0.48495719  0.07386992\n",
            "   0.18133341 -0.25234612  0.35240825  0.10730495]\n",
            " [ 0.06276251  0.2103483   0.46585621 -0.31473799 -0.40939677  0.02030781\n",
            "  -0.0229461  -0.01226846  0.46851972 -0.46844523]\n",
            " [-0.43544359 -0.01133737  0.1350167  -0.17421131 -0.33686747  0.41510212\n",
            "   0.42328502  0.23006183 -0.4023923   0.15678638]]\n"
          ],
          "name": "stdout"
        }
      ]
    },
    {
      "cell_type": "markdown",
      "metadata": {
        "id": "hA2A3WaFzgWq"
      },
      "source": [
        "Given two arrays A&B having the same shape. \n"
      ]
    },
    {
      "cell_type": "code",
      "metadata": {
        "colab": {
          "base_uri": "https://localhost:8080/"
        },
        "id": "b92hOvXa01fU",
        "outputId": "4a66ca10-6da1-478f-e6ec-0e431a0dc315"
      },
      "source": [
        "import numpy as np\n",
        "a = np.array([[1, 2, 3], [4, 5, 6]])\n",
        "b = np.array([[7, 8, 9], [10, 11, 12]])\n",
        "c = a+b\n",
        "print(c)\n"
      ],
      "execution_count": 7,
      "outputs": [
        {
          "output_type": "stream",
          "name": "stdout",
          "text": [
            "[[ 8 10 12]\n",
            " [14 16 18]]\n"
          ]
        }
      ]
    },
    {
      "cell_type": "markdown",
      "metadata": {
        "id": "mb335B7z2Jtf"
      },
      "source": [
        "Write a NumPy program to subtract the mean of each row of a given matrix."
      ]
    },
    {
      "cell_type": "code",
      "metadata": {
        "colab": {
          "base_uri": "https://localhost:8080/"
        },
        "id": "-6kNcBRk1bzg",
        "outputId": "adc7c330-bfaf-417d-e47a-ad9279def119"
      },
      "source": [
        "import numpy as np\n",
        "print(\"matrix\")\n",
        "X = np.random.rand(5, 10)\n",
        "print(X)\n",
        "print(\"matrix\")\n",
        "Y = X - X.mean(axis=1, keepdims=True)\n",
        "print(Y)"
      ],
      "execution_count": 8,
      "outputs": [
        {
          "output_type": "stream",
          "name": "stdout",
          "text": [
            "matrix\n",
            "[[0.91773139 0.29806206 0.78746397 0.83774753 0.72064987 0.50484942\n",
            "  0.06034189 0.03818723 0.45598633 0.34972764]\n",
            " [0.56165033 0.12032983 0.46783504 0.9792407  0.17254791 0.78595062\n",
            "  0.20390358 0.61003705 0.40111913 0.77369417]\n",
            " [0.9449648  0.3229412  0.7590468  0.03051926 0.62724723 0.31403027\n",
            "  0.66863009 0.0767624  0.92048759 0.9040237 ]\n",
            " [0.3788644  0.95083137 0.0194533  0.05459209 0.41455736 0.27755042\n",
            "  0.84740627 0.01214256 0.47611444 0.82526672]\n",
            " [0.26596178 0.28407509 0.19088345 0.10980323 0.70335457 0.3782266\n",
            "  0.67478495 0.00108386 0.19073577 0.38775513]]\n",
            "matrix\n",
            "[[ 0.42065666 -0.19901267  0.29038923  0.3406728   0.22357513  0.00777469\n",
            "  -0.43673285 -0.4588875  -0.04108841 -0.14734709]\n",
            " [ 0.05401949 -0.387301   -0.0397958   0.47160986 -0.33508292  0.27831978\n",
            "  -0.30372725  0.10240621 -0.10651171  0.26606333]\n",
            " [ 0.38809947 -0.23392414  0.20218146 -0.52634608  0.0703819  -0.24283506\n",
            "   0.11176476 -0.48010294  0.36362226  0.34715836]\n",
            " [-0.0468135   0.52515348 -0.40622459 -0.37108581 -0.01112053 -0.14812747\n",
            "   0.42172838 -0.41353533  0.05043655  0.39958883]\n",
            " [-0.05270466 -0.03459136 -0.12778299 -0.20886322  0.38468813  0.05956015\n",
            "   0.3561185  -0.31758258 -0.12793067  0.06908868]]\n"
          ]
        }
      ]
    }
  ]
}