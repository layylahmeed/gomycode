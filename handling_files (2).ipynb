{
  "nbformat": 4,
  "nbformat_minor": 0,
  "metadata": {
    "colab": {
      "name": "handling files",
      "provenance": []
    },
    "kernelspec": {
      "name": "python3",
      "display_name": "Python 3"
    },
    "language_info": {
      "name": "python"
    }
  },
  "cells": [
    {
      "cell_type": "code",
      "metadata": {
        "colab": {
          "base_uri": "https://localhost:8080/"
        },
        "id": "IC-rBD8Ttsuk",
        "outputId": "903e5f68-6e8f-40ee-893b-6574608d9cb5"
      },
      "source": [
        "file1=open(\"/content/python.txt\",\"r\")"
      ],
      "execution_count": 26,
      "outputs": [
        {
          "output_type": "execute_result",
          "data": {
            "text/plain": [
              "[]"
            ]
          },
          "metadata": {},
          "execution_count": 26
        }
      ]
    },
    {
      "cell_type": "code",
      "metadata": {
        "id": "UIjYXtbLMJwj"
      },
      "source": [
        "file1.read()"
      ],
      "execution_count": null,
      "outputs": []
    },
    {
      "cell_type": "code",
      "metadata": {
        "id": "9wPAq4TwMOYA"
      },
      "source": [
        "file1.readlines()"
      ],
      "execution_count": null,
      "outputs": []
    },
    {
      "cell_type": "code",
      "metadata": {
        "id": "rUeLLhMOOshy"
      },
      "source": [
        "file1.readlines(-1)"
      ],
      "execution_count": null,
      "outputs": []
    },
    {
      "cell_type": "code",
      "metadata": {
        "colab": {
          "base_uri": "https://localhost:8080/"
        },
        "id": "wbiGWV1kObcy",
        "outputId": "6ac4704f-4260-485c-c74b-dbf16581dfe6"
      },
      "source": [
        "file = open(\"/content/python.txt\", \"rt\")\n",
        "data = file.read()\n",
        "words = data.split()\n",
        "\n",
        "print('Number of words in text file :', len(words))"
      ],
      "execution_count": 28,
      "outputs": [
        {
          "output_type": "stream",
          "text": [
            "Number of words in text file : 100\n"
          ],
          "name": "stdout"
        }
      ]
    }
  ]
}