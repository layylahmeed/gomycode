{
  "nbformat": 4,
  "nbformat_minor": 0,
  "metadata": {
    "colab": {
      "name": "handling files",
      "provenance": []
    },
    "kernelspec": {
      "name": "python3",
      "display_name": "Python 3"
    },
    "language_info": {
      "name": "python"
    }
  },
  "cells": [
    {
      "cell_type": "markdown",
      "metadata": {
        "id": "ML_ODAbMix2P"
      },
      "source": [
        "1. Write a Python program to read an entire text file."
      ]
    },
    {
      "cell_type": "code",
      "metadata": {
        "id": "I3f-K0wQxKT-"
      },
      "source": [
        "\n",
        "f=open(\"test.txt\",'r',encoding = 'python')\n",
        "f.read(4)  \n",
        "print(python)"
      ],
      "execution_count": null,
      "outputs": []
    },
    {
      "cell_type": "markdown",
      "metadata": {
        "id": "A5zacxtWynBu"
      },
      "source": [
        " Write a Python program to read first n lines of a file."
      ]
    },
    {
      "cell_type": "code",
      "metadata": {
        "id": "LiGYuYnqyoGS"
      },
      "source": [
        "f=open(\"txt\")\n",
        "number_of_lines = 3\n",
        "for i in range(number_of_lines):\n",
        "    line = a_file.readline()\n",
        "    print(line)"
      ],
      "execution_count": null,
      "outputs": []
    },
    {
      "cell_type": "markdown",
      "metadata": {
        "id": "77m8n0vV3Kbo"
      },
      "source": [
        "Write a Python program to read last n lines of a file"
      ]
    },
    {
      "cell_type": "code",
      "metadata": {
        "id": "L2GrfAIE4Acr"
      },
      "source": [
        "f=open(\"txt\", \"r\")\n",
        "lines = f. readlines()\n",
        "last_lines = lines[-5:]\n",
        "print(last_lines)\n"
      ],
      "execution_count": null,
      "outputs": []
    },
    {
      "cell_type": "markdown",
      "metadata": {
        "id": "ouPtmzzn5NC_"
      },
      "source": [
        "Write a Python program that takes a text file as input and returns the number of words of a given text file."
      ]
    },
    {
      "cell_type": "code",
      "metadata": {
        "id": "2j_-krvQ5Vit"
      },
      "source": [
        ""
      ],
      "execution_count": null,
      "outputs": []
    }
  ]
}